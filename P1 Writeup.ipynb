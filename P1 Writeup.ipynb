{
 "cells": [
  {
   "cell_type": "markdown",
   "metadata": {},
   "source": [
    "The goal of this project was to create a pipeline that takes a video (mp4) from the dashboard of a driving car, identifies the lane lines as the car drives, and highlights them in red. My pipeline consists of a couple of different steps. First, the image is read and converted to grayscale so that Gaussian smoothing and blurring can be applied to it. Once the image is clearer and easier to analyze, we apply Canny edge detection to identify where the lane lines are. Then we turn to region masking to eliminate the parts of the image that will not contain the lane lines. This allows us to apply a Hough transform on just the lanes themselves, ignoring anything else in the car's vision. The result is an array of endpoints that make up the lane line segments in the image. I then create a new function to sort these segments into left and right bins, from which I average the slopes and extrapolate to find two full lines outlining the lane. Within this function, I use max/min comparisons to alter the length of the red highlights as the  lane curves along the road. Minimizing the jerkiness of the two red lane highlights, this stabilizes the lane outlines and produces an efficient fit along the road.\n",
    "\n",
    "It took a while to find the ideal combination of tweaked arguments that resulted in the most stable and best-fitting lane highlights. The constant jerks and overall innacuracy of my initial solutions prompted me to add more specifics (like max/min comparisons) to my function as well as fine tune the inputs to all the other helper functions. Changing the voting threshold for the Hough Transform also had a significant effect on the output. \n",
    "\n",
    "Though I worked on controlling the length of the red highlights, it could be improved. Since the length is based partly on the max/min X-values (which are then compared to a fixed value), it still fluctuates a lot and that's something I would work on minimizing next."
   ]
  }
 ],
 "metadata": {
  "kernelspec": {
   "display_name": "Python 3",
   "language": "python",
   "name": "python3"
  },
  "language_info": {
   "codemirror_mode": {
    "name": "ipython",
    "version": 3
   },
   "file_extension": ".py",
   "mimetype": "text/x-python",
   "name": "python",
   "nbconvert_exporter": "python",
   "pygments_lexer": "ipython3",
   "version": "3.6.0"
  }
 },
 "nbformat": 4,
 "nbformat_minor": 2
}
